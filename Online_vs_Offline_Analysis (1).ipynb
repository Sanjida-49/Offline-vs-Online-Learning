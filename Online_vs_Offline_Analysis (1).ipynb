{
 "cells": [
  {
   "cell_type": "markdown",
   "id": "153fd417",
   "metadata": {},
   "source": [
    "# Online vs Offline Learning - Student Performance Analysis"
   ]
  },
  {
   "cell_type": "code",
   "execution_count": null,
   "id": "ea1690d5",
   "metadata": {},
   "outputs": [],
   "source": [
    "import pandas as pd\n",
    "import seaborn as sns\n",
    "import matplotlib.pyplot as plt\n",
    "from sklearn.linear_model import LinearRegression, LogisticRegression\n",
    "from sklearn.model_selection import train_test_split\n",
    "from sklearn.metrics import r2_score, mean_squared_error, accuracy_score, classification_report\n"
   ]
  },
  {
   "cell_type": "markdown",
   "id": "44df9d2c",
   "metadata": {},
   "source": [
    "### Load the cleaned dataset"
   ]
  },
  {
   "cell_type": "code",
   "execution_count": null,
   "id": "47697f79",
   "metadata": {},
   "outputs": [],
   "source": [
    "df = pd.read_csv(\"combined_student_data.csv\")\n",
    "df.head()"
   ]
  },
  {
   "cell_type": "markdown",
   "id": "92c651bf",
   "metadata": {},
   "source": [
    "### Visualize Grade Distribution by Learning Mode"
   ]
  },
  {
   "cell_type": "code",
   "execution_count": null,
   "id": "a2cd4c05",
   "metadata": {},
   "outputs": [],
   "source": [
    "sns.histplot(data=df, x='G3', hue='learning_mode', kde=True, bins=20)\n",
    "plt.title('Distribution of Final Grades')\n",
    "plt.show()"
   ]
  },
  {
   "cell_type": "markdown",
   "id": "84b5a3d2",
   "metadata": {},
   "source": [
    "### Correlation Heatmaps"
   ]
  },
  {
   "cell_type": "code",
   "execution_count": null,
   "id": "b38e51ae",
   "metadata": {},
   "outputs": [],
   "source": [
    "offline_df = df[df['learning_mode'] == 'offline']\n",
    "online_df = df[df['learning_mode'] == 'online']\n",
    "\n",
    "sns.heatmap(offline_df[['engagement', 'absences', 'G3']].corr(), annot=True)\n",
    "plt.title('Offline Correlation Heatmap')\n",
    "plt.show()\n",
    "\n",
    "sns.heatmap(online_df[['engagement', 'resources', 'discussion', 'absences', 'G3']].corr(), annot=True)\n",
    "plt.title('Online Correlation Heatmap')\n",
    "plt.show()"
   ]
  },
  {
   "cell_type": "markdown",
   "id": "87ae9604",
   "metadata": {},
   "source": [
    "### Predictive Modeling - Offline (Linear Regression)"
   ]
  },
  {
   "cell_type": "code",
   "execution_count": null,
   "id": "9fe83be5",
   "metadata": {},
   "outputs": [],
   "source": [
    "X_off = offline_df[['engagement', 'absences']]\n",
    "y_off = offline_df['G3']\n",
    "\n",
    "X_train_o, X_test_o, y_train_o, y_test_o = train_test_split(X_off, y_off, test_size=0.2, random_state=42)\n",
    "model_off = LinearRegression()\n",
    "model_off.fit(X_train_o, y_train_o)\n",
    "y_pred_off = model_off.predict(X_test_o)\n",
    "\n",
    "print(\"Offline R²:\", r2_score(y_test_o, y_pred_off))\n",
    "print(\"Offline RMSE:\", mean_squared_error(y_test_o, y_pred_off, squared=False))"
   ]
  },
  {
   "cell_type": "markdown",
   "id": "a8e1519d",
   "metadata": {},
   "source": [
    "### Predictive Modeling - Online (Logistic Regression)"
   ]
  },
  {
   "cell_type": "code",
   "execution_count": null,
   "id": "613fa802",
   "metadata": {},
   "outputs": [],
   "source": [
    "X_on = online_df[['engagement', 'resources', 'discussion', 'absences']]\n",
    "y_on = online_df['G3']\n",
    "\n",
    "X_train_on, X_test_on, y_train_on, y_test_on = train_test_split(X_on, y_on, test_size=0.2, random_state=42)\n",
    "model_on = LogisticRegression(max_iter=200)\n",
    "model_on.fit(X_train_on, y_train_on)\n",
    "y_pred_on = model_on.predict(X_test_on)\n",
    "\n",
    "print(\"Online Accuracy:\", accuracy_score(y_test_on, y_pred_on))\n",
    "print(\"Classification Report:\")\n",
    "print(classification_report(y_test_on, y_pred_on))"
   ]
  }
 ],
 "metadata": {},
 "nbformat": 4,
 "nbformat_minor": 5
}